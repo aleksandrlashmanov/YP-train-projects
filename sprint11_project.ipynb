{
 "cells": [
  {
   "cell_type": "markdown",
   "metadata": {},
   "source": [
    "### Оглавление:\n",
    "1. [Подготовка данных](#start)\n",
    "2. [Обучение моделей](#models)\n",
    "3. [Анализ моделей](#analisys)"
   ]
  },
  {
   "cell_type": "markdown",
   "metadata": {},
   "source": [
    "# Подготовка данных\n",
    "<a id=\"start\"></a>"
   ]
  },
  {
   "cell_type": "code",
   "execution_count": 1,
   "metadata": {},
   "outputs": [
    {
     "name": "stdout",
     "output_type": "stream",
     "text": [
      "Requirement already satisfied: lightgbm in c:\\anaconda3\\envs\\practicum\\lib\\site-packages (3.2.1)\n",
      "Requirement already satisfied: scipy in c:\\anaconda3\\envs\\practicum\\lib\\site-packages (from lightgbm) (1.4.1)\n",
      "Requirement already satisfied: numpy in c:\\anaconda3\\envs\\practicum\\lib\\site-packages (from lightgbm) (1.18.3)\n",
      "Requirement already satisfied: wheel in c:\\anaconda3\\envs\\practicum\\lib\\site-packages (from lightgbm) (0.35.1)\n",
      "Requirement already satisfied: scikit-learn!=0.22.0 in c:\\anaconda3\\envs\\practicum\\lib\\site-packages (from lightgbm) (0.21.2)\n",
      "Requirement already satisfied: joblib>=0.11 in c:\\anaconda3\\envs\\practicum\\lib\\site-packages (from scikit-learn!=0.22.0->lightgbm) (0.17.0)\n"
     ]
    },
    {
     "data": {
      "text/html": [
       "<div>\n",
       "<style scoped>\n",
       "    .dataframe tbody tr th:only-of-type {\n",
       "        vertical-align: middle;\n",
       "    }\n",
       "\n",
       "    .dataframe tbody tr th {\n",
       "        vertical-align: top;\n",
       "    }\n",
       "\n",
       "    .dataframe thead th {\n",
       "        text-align: right;\n",
       "    }\n",
       "</style>\n",
       "<table border=\"1\" class=\"dataframe\">\n",
       "  <thead>\n",
       "    <tr style=\"text-align: right;\">\n",
       "      <th></th>\n",
       "      <th>DateCrawled</th>\n",
       "      <th>Price</th>\n",
       "      <th>VehicleType</th>\n",
       "      <th>RegistrationYear</th>\n",
       "      <th>Gearbox</th>\n",
       "      <th>Power</th>\n",
       "      <th>Model</th>\n",
       "      <th>Kilometer</th>\n",
       "      <th>RegistrationMonth</th>\n",
       "      <th>FuelType</th>\n",
       "      <th>Brand</th>\n",
       "      <th>NotRepaired</th>\n",
       "      <th>DateCreated</th>\n",
       "      <th>NumberOfPictures</th>\n",
       "      <th>PostalCode</th>\n",
       "      <th>LastSeen</th>\n",
       "    </tr>\n",
       "  </thead>\n",
       "  <tbody>\n",
       "    <tr>\n",
       "      <td>0</td>\n",
       "      <td>2016-03-24 11:52:17</td>\n",
       "      <td>480</td>\n",
       "      <td>NaN</td>\n",
       "      <td>1993</td>\n",
       "      <td>manual</td>\n",
       "      <td>0</td>\n",
       "      <td>golf</td>\n",
       "      <td>150000</td>\n",
       "      <td>0</td>\n",
       "      <td>petrol</td>\n",
       "      <td>volkswagen</td>\n",
       "      <td>NaN</td>\n",
       "      <td>2016-03-24 00:00:00</td>\n",
       "      <td>0</td>\n",
       "      <td>70435</td>\n",
       "      <td>2016-04-07 03:16:57</td>\n",
       "    </tr>\n",
       "    <tr>\n",
       "      <td>1</td>\n",
       "      <td>2016-03-24 10:58:45</td>\n",
       "      <td>18300</td>\n",
       "      <td>coupe</td>\n",
       "      <td>2011</td>\n",
       "      <td>manual</td>\n",
       "      <td>190</td>\n",
       "      <td>NaN</td>\n",
       "      <td>125000</td>\n",
       "      <td>5</td>\n",
       "      <td>gasoline</td>\n",
       "      <td>audi</td>\n",
       "      <td>yes</td>\n",
       "      <td>2016-03-24 00:00:00</td>\n",
       "      <td>0</td>\n",
       "      <td>66954</td>\n",
       "      <td>2016-04-07 01:46:50</td>\n",
       "    </tr>\n",
       "    <tr>\n",
       "      <td>2</td>\n",
       "      <td>2016-03-14 12:52:21</td>\n",
       "      <td>9800</td>\n",
       "      <td>suv</td>\n",
       "      <td>2004</td>\n",
       "      <td>auto</td>\n",
       "      <td>163</td>\n",
       "      <td>grand</td>\n",
       "      <td>125000</td>\n",
       "      <td>8</td>\n",
       "      <td>gasoline</td>\n",
       "      <td>jeep</td>\n",
       "      <td>NaN</td>\n",
       "      <td>2016-03-14 00:00:00</td>\n",
       "      <td>0</td>\n",
       "      <td>90480</td>\n",
       "      <td>2016-04-05 12:47:46</td>\n",
       "    </tr>\n",
       "    <tr>\n",
       "      <td>3</td>\n",
       "      <td>2016-03-17 16:54:04</td>\n",
       "      <td>1500</td>\n",
       "      <td>small</td>\n",
       "      <td>2001</td>\n",
       "      <td>manual</td>\n",
       "      <td>75</td>\n",
       "      <td>golf</td>\n",
       "      <td>150000</td>\n",
       "      <td>6</td>\n",
       "      <td>petrol</td>\n",
       "      <td>volkswagen</td>\n",
       "      <td>no</td>\n",
       "      <td>2016-03-17 00:00:00</td>\n",
       "      <td>0</td>\n",
       "      <td>91074</td>\n",
       "      <td>2016-03-17 17:40:17</td>\n",
       "    </tr>\n",
       "    <tr>\n",
       "      <td>4</td>\n",
       "      <td>2016-03-31 17:25:20</td>\n",
       "      <td>3600</td>\n",
       "      <td>small</td>\n",
       "      <td>2008</td>\n",
       "      <td>manual</td>\n",
       "      <td>69</td>\n",
       "      <td>fabia</td>\n",
       "      <td>90000</td>\n",
       "      <td>7</td>\n",
       "      <td>gasoline</td>\n",
       "      <td>skoda</td>\n",
       "      <td>no</td>\n",
       "      <td>2016-03-31 00:00:00</td>\n",
       "      <td>0</td>\n",
       "      <td>60437</td>\n",
       "      <td>2016-04-06 10:17:21</td>\n",
       "    </tr>\n",
       "  </tbody>\n",
       "</table>\n",
       "</div>"
      ],
      "text/plain": [
       "           DateCrawled  Price VehicleType  RegistrationYear Gearbox  Power  \\\n",
       "0  2016-03-24 11:52:17    480         NaN              1993  manual      0   \n",
       "1  2016-03-24 10:58:45  18300       coupe              2011  manual    190   \n",
       "2  2016-03-14 12:52:21   9800         suv              2004    auto    163   \n",
       "3  2016-03-17 16:54:04   1500       small              2001  manual     75   \n",
       "4  2016-03-31 17:25:20   3600       small              2008  manual     69   \n",
       "\n",
       "   Model  Kilometer  RegistrationMonth  FuelType       Brand NotRepaired  \\\n",
       "0   golf     150000                  0    petrol  volkswagen         NaN   \n",
       "1    NaN     125000                  5  gasoline        audi         yes   \n",
       "2  grand     125000                  8  gasoline        jeep         NaN   \n",
       "3   golf     150000                  6    petrol  volkswagen          no   \n",
       "4  fabia      90000                  7  gasoline       skoda          no   \n",
       "\n",
       "           DateCreated  NumberOfPictures  PostalCode             LastSeen  \n",
       "0  2016-03-24 00:00:00                 0       70435  2016-04-07 03:16:57  \n",
       "1  2016-03-24 00:00:00                 0       66954  2016-04-07 01:46:50  \n",
       "2  2016-03-14 00:00:00                 0       90480  2016-04-05 12:47:46  \n",
       "3  2016-03-17 00:00:00                 0       91074  2016-03-17 17:40:17  \n",
       "4  2016-03-31 00:00:00                 0       60437  2016-04-06 10:17:21  "
      ]
     },
     "execution_count": 1,
     "metadata": {},
     "output_type": "execute_result"
    }
   ],
   "source": [
    "!pip install lightgbm\n",
    "\n",
    "import pandas as pd\n",
    "import numpy as np\n",
    "import lightgbm as lgb\n",
    "from sklearn.preprocessing import OrdinalEncoder\n",
    "from sklearn.model_selection import train_test_split, cross_validate, GridSearchCV, RandomizedSearchCV\n",
    "from sklearn.preprocessing import StandardScaler\n",
    "from sklearn.linear_model import LinearRegression\n",
    "from sklearn.metrics import mean_squared_error\n",
    "from sklearn.ensemble import RandomForestRegressor\n",
    "from sklearn.dummy import DummyRegressor\n",
    "\n",
    "\n",
    "try:\n",
    "    data = pd.read_csv('/datasets/autos.csv')\n",
    "except:\n",
    "    data = pd.read_csv('autos.csv')\n",
    "data_initial = data\n",
    "data.head()"
   ]
  },
  {
   "cell_type": "code",
   "execution_count": 2,
   "metadata": {},
   "outputs": [
    {
     "name": "stdout",
     "output_type": "stream",
     "text": [
      "<class 'pandas.core.frame.DataFrame'>\n",
      "RangeIndex: 354369 entries, 0 to 354368\n",
      "Data columns (total 16 columns):\n",
      "DateCrawled          354369 non-null object\n",
      "Price                354369 non-null int64\n",
      "VehicleType          316879 non-null object\n",
      "RegistrationYear     354369 non-null int64\n",
      "Gearbox              334536 non-null object\n",
      "Power                354369 non-null int64\n",
      "Model                334664 non-null object\n",
      "Kilometer            354369 non-null int64\n",
      "RegistrationMonth    354369 non-null int64\n",
      "FuelType             321474 non-null object\n",
      "Brand                354369 non-null object\n",
      "NotRepaired          283215 non-null object\n",
      "DateCreated          354369 non-null object\n",
      "NumberOfPictures     354369 non-null int64\n",
      "PostalCode           354369 non-null int64\n",
      "LastSeen             354369 non-null object\n",
      "dtypes: int64(7), object(9)\n",
      "memory usage: 43.3+ MB\n"
     ]
    }
   ],
   "source": [
    "data.info()"
   ]
  },
  {
   "cell_type": "code",
   "execution_count": 3,
   "metadata": {
    "scrolled": true
   },
   "outputs": [
    {
     "data": {
      "text/html": [
       "<div>\n",
       "<style scoped>\n",
       "    .dataframe tbody tr th:only-of-type {\n",
       "        vertical-align: middle;\n",
       "    }\n",
       "\n",
       "    .dataframe tbody tr th {\n",
       "        vertical-align: top;\n",
       "    }\n",
       "\n",
       "    .dataframe thead th {\n",
       "        text-align: right;\n",
       "    }\n",
       "</style>\n",
       "<table border=\"1\" class=\"dataframe\">\n",
       "  <thead>\n",
       "    <tr style=\"text-align: right;\">\n",
       "      <th></th>\n",
       "      <th>Price</th>\n",
       "      <th>RegistrationYear</th>\n",
       "      <th>Power</th>\n",
       "      <th>Kilometer</th>\n",
       "      <th>RegistrationMonth</th>\n",
       "      <th>NumberOfPictures</th>\n",
       "      <th>PostalCode</th>\n",
       "    </tr>\n",
       "  </thead>\n",
       "  <tbody>\n",
       "    <tr>\n",
       "      <td>count</td>\n",
       "      <td>354369.000000</td>\n",
       "      <td>354369.000000</td>\n",
       "      <td>354369.000000</td>\n",
       "      <td>354369.000000</td>\n",
       "      <td>354369.000000</td>\n",
       "      <td>354369.0</td>\n",
       "      <td>354369.000000</td>\n",
       "    </tr>\n",
       "    <tr>\n",
       "      <td>mean</td>\n",
       "      <td>4416.656776</td>\n",
       "      <td>2004.234448</td>\n",
       "      <td>110.094337</td>\n",
       "      <td>128211.172535</td>\n",
       "      <td>5.714645</td>\n",
       "      <td>0.0</td>\n",
       "      <td>50508.689087</td>\n",
       "    </tr>\n",
       "    <tr>\n",
       "      <td>std</td>\n",
       "      <td>4514.158514</td>\n",
       "      <td>90.227958</td>\n",
       "      <td>189.850405</td>\n",
       "      <td>37905.341530</td>\n",
       "      <td>3.726421</td>\n",
       "      <td>0.0</td>\n",
       "      <td>25783.096248</td>\n",
       "    </tr>\n",
       "    <tr>\n",
       "      <td>min</td>\n",
       "      <td>0.000000</td>\n",
       "      <td>1000.000000</td>\n",
       "      <td>0.000000</td>\n",
       "      <td>5000.000000</td>\n",
       "      <td>0.000000</td>\n",
       "      <td>0.0</td>\n",
       "      <td>1067.000000</td>\n",
       "    </tr>\n",
       "    <tr>\n",
       "      <td>25%</td>\n",
       "      <td>1050.000000</td>\n",
       "      <td>1999.000000</td>\n",
       "      <td>69.000000</td>\n",
       "      <td>125000.000000</td>\n",
       "      <td>3.000000</td>\n",
       "      <td>0.0</td>\n",
       "      <td>30165.000000</td>\n",
       "    </tr>\n",
       "    <tr>\n",
       "      <td>50%</td>\n",
       "      <td>2700.000000</td>\n",
       "      <td>2003.000000</td>\n",
       "      <td>105.000000</td>\n",
       "      <td>150000.000000</td>\n",
       "      <td>6.000000</td>\n",
       "      <td>0.0</td>\n",
       "      <td>49413.000000</td>\n",
       "    </tr>\n",
       "    <tr>\n",
       "      <td>75%</td>\n",
       "      <td>6400.000000</td>\n",
       "      <td>2008.000000</td>\n",
       "      <td>143.000000</td>\n",
       "      <td>150000.000000</td>\n",
       "      <td>9.000000</td>\n",
       "      <td>0.0</td>\n",
       "      <td>71083.000000</td>\n",
       "    </tr>\n",
       "    <tr>\n",
       "      <td>max</td>\n",
       "      <td>20000.000000</td>\n",
       "      <td>9999.000000</td>\n",
       "      <td>20000.000000</td>\n",
       "      <td>150000.000000</td>\n",
       "      <td>12.000000</td>\n",
       "      <td>0.0</td>\n",
       "      <td>99998.000000</td>\n",
       "    </tr>\n",
       "  </tbody>\n",
       "</table>\n",
       "</div>"
      ],
      "text/plain": [
       "               Price  RegistrationYear          Power      Kilometer  \\\n",
       "count  354369.000000     354369.000000  354369.000000  354369.000000   \n",
       "mean     4416.656776       2004.234448     110.094337  128211.172535   \n",
       "std      4514.158514         90.227958     189.850405   37905.341530   \n",
       "min         0.000000       1000.000000       0.000000    5000.000000   \n",
       "25%      1050.000000       1999.000000      69.000000  125000.000000   \n",
       "50%      2700.000000       2003.000000     105.000000  150000.000000   \n",
       "75%      6400.000000       2008.000000     143.000000  150000.000000   \n",
       "max     20000.000000       9999.000000   20000.000000  150000.000000   \n",
       "\n",
       "       RegistrationMonth  NumberOfPictures     PostalCode  \n",
       "count      354369.000000          354369.0  354369.000000  \n",
       "mean            5.714645               0.0   50508.689087  \n",
       "std             3.726421               0.0   25783.096248  \n",
       "min             0.000000               0.0    1067.000000  \n",
       "25%             3.000000               0.0   30165.000000  \n",
       "50%             6.000000               0.0   49413.000000  \n",
       "75%             9.000000               0.0   71083.000000  \n",
       "max            12.000000               0.0   99998.000000  "
      ]
     },
     "execution_count": 3,
     "metadata": {},
     "output_type": "execute_result"
    }
   ],
   "source": [
    "data.describe()"
   ]
  },
  {
   "cell_type": "markdown",
   "metadata": {},
   "source": [
    "В данных присутсвует достаточно большое количество пропусков, а также аномальные сначения (например, год регистрации 9999 или мощность 0). Кроме этого у числовых признаков наблюдаются разные по масштабу разбросы значений.\n",
    "\n",
    "Для начала избавимся от признаков, которые не влияют на стоимость автомобиля: DateCrawled, RegistrationMonth, DateCreated, NumberOfPictures, PostalCode, LastSeen."
   ]
  },
  {
   "cell_type": "code",
   "execution_count": 4,
   "metadata": {
    "scrolled": true
   },
   "outputs": [
    {
     "name": "stdout",
     "output_type": "stream",
     "text": [
      "<class 'pandas.core.frame.DataFrame'>\n",
      "RangeIndex: 354369 entries, 0 to 354368\n",
      "Data columns (total 10 columns):\n",
      "Price               354369 non-null int64\n",
      "VehicleType         316879 non-null object\n",
      "RegistrationYear    354369 non-null int64\n",
      "Gearbox             334536 non-null object\n",
      "Power               354369 non-null int64\n",
      "Model               334664 non-null object\n",
      "Kilometer           354369 non-null int64\n",
      "FuelType            321474 non-null object\n",
      "Brand               354369 non-null object\n",
      "NotRepaired         283215 non-null object\n",
      "dtypes: int64(4), object(6)\n",
      "memory usage: 27.0+ MB\n"
     ]
    }
   ],
   "source": [
    "data = data.drop(columns=['DateCrawled', 'RegistrationMonth', 'DateCreated', 'NumberOfPictures', 'PostalCode', 'LastSeen'])\n",
    "data.info()"
   ]
  },
  {
   "cell_type": "markdown",
   "metadata": {},
   "source": [
    "Пропуски в Model заполним модами этого значения среди марок автомобилей."
   ]
  },
  {
   "cell_type": "code",
   "execution_count": 5,
   "metadata": {},
   "outputs": [],
   "source": [
    "brands_models = data.groupby('Brand')['Model'].apply(lambda x: x.mode())\n",
    "data['Model'] = data['Model'].fillna(data['Brand'].map(brands_models[:,0]))"
   ]
  },
  {
   "cell_type": "markdown",
   "metadata": {},
   "source": [
    "Пропуски в VehicleType заполним модами этого значения среди моделей автомобилей."
   ]
  },
  {
   "cell_type": "code",
   "execution_count": 6,
   "metadata": {},
   "outputs": [],
   "source": [
    "models_vehicle_types = data.groupby('Model')['VehicleType'].apply(lambda x: x.mode())\n",
    "data['VehicleType'] = data['VehicleType'].fillna(data['Model'].map(models_vehicle_types[:,0]))"
   ]
  },
  {
   "cell_type": "markdown",
   "metadata": {},
   "source": [
    "Также модами среди моделей автомобилей заполним значения Gearbox и FuelType."
   ]
  },
  {
   "cell_type": "code",
   "execution_count": 7,
   "metadata": {},
   "outputs": [],
   "source": [
    "models_gearboxes = data.groupby('Model')['Gearbox'].apply(lambda x: x.mode())\n",
    "data['Gearbox'] = data['Gearbox'].fillna(data['Model'].map(models_gearboxes[:,0]))\n",
    "\n",
    "models_fuel_types = data.groupby('Model')['FuelType'].apply(lambda x: x.mode())\n",
    "data['FuelType'] = data['FuelType'].fillna(data['Model'].map(models_fuel_types[:,0]))"
   ]
  },
  {
   "cell_type": "markdown",
   "metadata": {},
   "source": [
    "Пропуски в признаке NotRepaired заполним значениями no, предполагая, что пропуски в данном поле пользователи оставляли, так как машина в ремонте не была."
   ]
  },
  {
   "cell_type": "code",
   "execution_count": 8,
   "metadata": {},
   "outputs": [],
   "source": [
    "data['NotRepaired'] = data['NotRepaired'].fillna('no')"
   ]
  },
  {
   "cell_type": "markdown",
   "metadata": {},
   "source": [
    "Строки, в которых не удалось заполнить пропуски в признаках, удалим."
   ]
  },
  {
   "cell_type": "code",
   "execution_count": 9,
   "metadata": {
    "scrolled": true
   },
   "outputs": [
    {
     "name": "stdout",
     "output_type": "stream",
     "text": [
      "<class 'pandas.core.frame.DataFrame'>\n",
      "Int64Index: 350995 entries, 0 to 354368\n",
      "Data columns (total 10 columns):\n",
      "Price               350995 non-null int64\n",
      "VehicleType         350995 non-null object\n",
      "RegistrationYear    350995 non-null int64\n",
      "Gearbox             350995 non-null object\n",
      "Power               350995 non-null int64\n",
      "Model               350995 non-null object\n",
      "Kilometer           350995 non-null int64\n",
      "FuelType            350995 non-null object\n",
      "Brand               350995 non-null object\n",
      "NotRepaired         350995 non-null object\n",
      "dtypes: int64(4), object(6)\n",
      "memory usage: 29.5+ MB\n"
     ]
    }
   ],
   "source": [
    "data = data.dropna()\n",
    "data.info()"
   ]
  },
  {
   "cell_type": "markdown",
   "metadata": {},
   "source": [
    "Также избавимся от явно аномальных значений: записей со значениями Power меньше 20 и больше 600, со значениями RegistrationYear меньше 1950 и больше 2021."
   ]
  },
  {
   "cell_type": "code",
   "execution_count": 10,
   "metadata": {
    "scrolled": true
   },
   "outputs": [
    {
     "data": {
      "text/html": [
       "<div>\n",
       "<style scoped>\n",
       "    .dataframe tbody tr th:only-of-type {\n",
       "        vertical-align: middle;\n",
       "    }\n",
       "\n",
       "    .dataframe tbody tr th {\n",
       "        vertical-align: top;\n",
       "    }\n",
       "\n",
       "    .dataframe thead th {\n",
       "        text-align: right;\n",
       "    }\n",
       "</style>\n",
       "<table border=\"1\" class=\"dataframe\">\n",
       "  <thead>\n",
       "    <tr style=\"text-align: right;\">\n",
       "      <th></th>\n",
       "      <th>Price</th>\n",
       "      <th>RegistrationYear</th>\n",
       "      <th>Power</th>\n",
       "      <th>Kilometer</th>\n",
       "    </tr>\n",
       "  </thead>\n",
       "  <tbody>\n",
       "    <tr>\n",
       "      <td>count</td>\n",
       "      <td>311501.000000</td>\n",
       "      <td>311501.000000</td>\n",
       "      <td>311501.000000</td>\n",
       "      <td>311501.000000</td>\n",
       "    </tr>\n",
       "    <tr>\n",
       "      <td>mean</td>\n",
       "      <td>4690.604322</td>\n",
       "      <td>2003.314936</td>\n",
       "      <td>120.047512</td>\n",
       "      <td>128736.231986</td>\n",
       "    </tr>\n",
       "    <tr>\n",
       "      <td>std</td>\n",
       "      <td>4579.874313</td>\n",
       "      <td>6.812481</td>\n",
       "      <td>53.410670</td>\n",
       "      <td>36554.595321</td>\n",
       "    </tr>\n",
       "    <tr>\n",
       "      <td>min</td>\n",
       "      <td>0.000000</td>\n",
       "      <td>1950.000000</td>\n",
       "      <td>20.000000</td>\n",
       "      <td>5000.000000</td>\n",
       "    </tr>\n",
       "    <tr>\n",
       "      <td>25%</td>\n",
       "      <td>1250.000000</td>\n",
       "      <td>1999.000000</td>\n",
       "      <td>75.000000</td>\n",
       "      <td>125000.000000</td>\n",
       "    </tr>\n",
       "    <tr>\n",
       "      <td>50%</td>\n",
       "      <td>2999.000000</td>\n",
       "      <td>2003.000000</td>\n",
       "      <td>110.000000</td>\n",
       "      <td>150000.000000</td>\n",
       "    </tr>\n",
       "    <tr>\n",
       "      <td>75%</td>\n",
       "      <td>6800.000000</td>\n",
       "      <td>2008.000000</td>\n",
       "      <td>150.000000</td>\n",
       "      <td>150000.000000</td>\n",
       "    </tr>\n",
       "    <tr>\n",
       "      <td>max</td>\n",
       "      <td>20000.000000</td>\n",
       "      <td>2019.000000</td>\n",
       "      <td>600.000000</td>\n",
       "      <td>150000.000000</td>\n",
       "    </tr>\n",
       "  </tbody>\n",
       "</table>\n",
       "</div>"
      ],
      "text/plain": [
       "               Price  RegistrationYear          Power      Kilometer\n",
       "count  311501.000000     311501.000000  311501.000000  311501.000000\n",
       "mean     4690.604322       2003.314936     120.047512  128736.231986\n",
       "std      4579.874313          6.812481      53.410670   36554.595321\n",
       "min         0.000000       1950.000000      20.000000    5000.000000\n",
       "25%      1250.000000       1999.000000      75.000000  125000.000000\n",
       "50%      2999.000000       2003.000000     110.000000  150000.000000\n",
       "75%      6800.000000       2008.000000     150.000000  150000.000000\n",
       "max     20000.000000       2019.000000     600.000000  150000.000000"
      ]
     },
     "execution_count": 10,
     "metadata": {},
     "output_type": "execute_result"
    }
   ],
   "source": [
    "data = data[(data['Power'] >= 20) & (data['Power'] <= 600)]\n",
    "\n",
    "data = data[(data['RegistrationYear'] >= 1950) & (data['RegistrationYear'] <= 2021)]\n",
    "\n",
    "data.describe()"
   ]
  },
  {
   "cell_type": "markdown",
   "metadata": {},
   "source": [
    "Также в данных присутствует некоторое количество объектов с значением Price равным 0, либо с символической ценой (1, 2). Предположим, что это случаи, в которых клиенты расчитывают избавиться от ненужного им автомобиля, чтобы не платить за него налоги и утилизационный сбор. "
   ]
  },
  {
   "cell_type": "code",
   "execution_count": 11,
   "metadata": {
    "scrolled": true
   },
   "outputs": [
    {
     "name": "stdout",
     "output_type": "stream",
     "text": [
      "Потеря данных после прдобработки составила 42868 строк или же 12.1%\n"
     ]
    }
   ],
   "source": [
    "print(f'Потеря данных после прдобработки составила {len(data_initial)-len(data)} строк или же {round(100-(100*len(data)/len(data_initial)), 2)}%')"
   ]
  },
  {
   "cell_type": "markdown",
   "metadata": {},
   "source": [
    "# Обучение моделей\n",
    "<a id=\"models\"></a>"
   ]
  },
  {
   "cell_type": "markdown",
   "metadata": {},
   "source": [
    "### Подготовка признаков."
   ]
  },
  {
   "cell_type": "code",
   "execution_count": 12,
   "metadata": {},
   "outputs": [
    {
     "data": {
      "text/plain": [
       "VehicleType      8\n",
       "Gearbox          2\n",
       "Model          249\n",
       "FuelType         7\n",
       "Brand           39\n",
       "NotRepaired      2\n",
       "dtype: int64"
      ]
     },
     "execution_count": 12,
     "metadata": {},
     "output_type": "execute_result"
    }
   ],
   "source": [
    "data.select_dtypes(include='object').nunique()"
   ]
  },
  {
   "cell_type": "markdown",
   "metadata": {},
   "source": [
    "Отделим целевой признак от остальных, а затем проведем прямое кодирование категориальных признаков кроме Model и Brand (так как они имеют слишком большое количество уникальных значений, закодируем их порядковым кодированием)."
   ]
  },
  {
   "cell_type": "code",
   "execution_count": 13,
   "metadata": {},
   "outputs": [
    {
     "data": {
      "text/html": [
       "<div>\n",
       "<style scoped>\n",
       "    .dataframe tbody tr th:only-of-type {\n",
       "        vertical-align: middle;\n",
       "    }\n",
       "\n",
       "    .dataframe tbody tr th {\n",
       "        vertical-align: top;\n",
       "    }\n",
       "\n",
       "    .dataframe thead th {\n",
       "        text-align: right;\n",
       "    }\n",
       "</style>\n",
       "<table border=\"1\" class=\"dataframe\">\n",
       "  <thead>\n",
       "    <tr style=\"text-align: right;\">\n",
       "      <th></th>\n",
       "      <th>Model</th>\n",
       "      <th>Brand</th>\n",
       "      <th>RegistrationYear</th>\n",
       "      <th>Power</th>\n",
       "      <th>Kilometer</th>\n",
       "      <th>VehicleType_convertible</th>\n",
       "      <th>VehicleType_coupe</th>\n",
       "      <th>VehicleType_other</th>\n",
       "      <th>VehicleType_sedan</th>\n",
       "      <th>VehicleType_small</th>\n",
       "      <th>VehicleType_suv</th>\n",
       "      <th>VehicleType_wagon</th>\n",
       "      <th>Gearbox_manual</th>\n",
       "      <th>FuelType_electric</th>\n",
       "      <th>FuelType_gasoline</th>\n",
       "      <th>FuelType_hybrid</th>\n",
       "      <th>FuelType_lpg</th>\n",
       "      <th>FuelType_other</th>\n",
       "      <th>FuelType_petrol</th>\n",
       "      <th>NotRepaired_yes</th>\n",
       "    </tr>\n",
       "  </thead>\n",
       "  <tbody>\n",
       "    <tr>\n",
       "      <td>0</td>\n",
       "      <td>29.0</td>\n",
       "      <td>1.0</td>\n",
       "      <td>2011</td>\n",
       "      <td>190</td>\n",
       "      <td>125000</td>\n",
       "      <td>0</td>\n",
       "      <td>1</td>\n",
       "      <td>0</td>\n",
       "      <td>0</td>\n",
       "      <td>0</td>\n",
       "      <td>0</td>\n",
       "      <td>0</td>\n",
       "      <td>1</td>\n",
       "      <td>0</td>\n",
       "      <td>1</td>\n",
       "      <td>0</td>\n",
       "      <td>0</td>\n",
       "      <td>0</td>\n",
       "      <td>0</td>\n",
       "      <td>1</td>\n",
       "    </tr>\n",
       "    <tr>\n",
       "      <td>1</td>\n",
       "      <td>117.0</td>\n",
       "      <td>14.0</td>\n",
       "      <td>2004</td>\n",
       "      <td>163</td>\n",
       "      <td>125000</td>\n",
       "      <td>0</td>\n",
       "      <td>0</td>\n",
       "      <td>0</td>\n",
       "      <td>0</td>\n",
       "      <td>0</td>\n",
       "      <td>1</td>\n",
       "      <td>0</td>\n",
       "      <td>0</td>\n",
       "      <td>0</td>\n",
       "      <td>1</td>\n",
       "      <td>0</td>\n",
       "      <td>0</td>\n",
       "      <td>0</td>\n",
       "      <td>0</td>\n",
       "      <td>0</td>\n",
       "    </tr>\n",
       "    <tr>\n",
       "      <td>2</td>\n",
       "      <td>116.0</td>\n",
       "      <td>37.0</td>\n",
       "      <td>2001</td>\n",
       "      <td>75</td>\n",
       "      <td>150000</td>\n",
       "      <td>0</td>\n",
       "      <td>0</td>\n",
       "      <td>0</td>\n",
       "      <td>0</td>\n",
       "      <td>1</td>\n",
       "      <td>0</td>\n",
       "      <td>0</td>\n",
       "      <td>1</td>\n",
       "      <td>0</td>\n",
       "      <td>0</td>\n",
       "      <td>0</td>\n",
       "      <td>0</td>\n",
       "      <td>0</td>\n",
       "      <td>1</td>\n",
       "      <td>0</td>\n",
       "    </tr>\n",
       "    <tr>\n",
       "      <td>3</td>\n",
       "      <td>101.0</td>\n",
       "      <td>31.0</td>\n",
       "      <td>2008</td>\n",
       "      <td>69</td>\n",
       "      <td>90000</td>\n",
       "      <td>0</td>\n",
       "      <td>0</td>\n",
       "      <td>0</td>\n",
       "      <td>0</td>\n",
       "      <td>1</td>\n",
       "      <td>0</td>\n",
       "      <td>0</td>\n",
       "      <td>1</td>\n",
       "      <td>0</td>\n",
       "      <td>1</td>\n",
       "      <td>0</td>\n",
       "      <td>0</td>\n",
       "      <td>0</td>\n",
       "      <td>0</td>\n",
       "      <td>0</td>\n",
       "    </tr>\n",
       "    <tr>\n",
       "      <td>4</td>\n",
       "      <td>11.0</td>\n",
       "      <td>2.0</td>\n",
       "      <td>1995</td>\n",
       "      <td>102</td>\n",
       "      <td>150000</td>\n",
       "      <td>0</td>\n",
       "      <td>0</td>\n",
       "      <td>0</td>\n",
       "      <td>1</td>\n",
       "      <td>0</td>\n",
       "      <td>0</td>\n",
       "      <td>0</td>\n",
       "      <td>1</td>\n",
       "      <td>0</td>\n",
       "      <td>0</td>\n",
       "      <td>0</td>\n",
       "      <td>0</td>\n",
       "      <td>0</td>\n",
       "      <td>1</td>\n",
       "      <td>1</td>\n",
       "    </tr>\n",
       "    <tr>\n",
       "      <td>...</td>\n",
       "      <td>...</td>\n",
       "      <td>...</td>\n",
       "      <td>...</td>\n",
       "      <td>...</td>\n",
       "      <td>...</td>\n",
       "      <td>...</td>\n",
       "      <td>...</td>\n",
       "      <td>...</td>\n",
       "      <td>...</td>\n",
       "      <td>...</td>\n",
       "      <td>...</td>\n",
       "      <td>...</td>\n",
       "      <td>...</td>\n",
       "      <td>...</td>\n",
       "      <td>...</td>\n",
       "      <td>...</td>\n",
       "      <td>...</td>\n",
       "      <td>...</td>\n",
       "      <td>...</td>\n",
       "      <td>...</td>\n",
       "    </tr>\n",
       "    <tr>\n",
       "      <td>311496</td>\n",
       "      <td>4.0</td>\n",
       "      <td>0.0</td>\n",
       "      <td>2016</td>\n",
       "      <td>150</td>\n",
       "      <td>150000</td>\n",
       "      <td>0</td>\n",
       "      <td>0</td>\n",
       "      <td>0</td>\n",
       "      <td>0</td>\n",
       "      <td>0</td>\n",
       "      <td>0</td>\n",
       "      <td>1</td>\n",
       "      <td>0</td>\n",
       "      <td>0</td>\n",
       "      <td>1</td>\n",
       "      <td>0</td>\n",
       "      <td>0</td>\n",
       "      <td>0</td>\n",
       "      <td>0</td>\n",
       "      <td>0</td>\n",
       "    </tr>\n",
       "    <tr>\n",
       "      <td>311497</td>\n",
       "      <td>140.0</td>\n",
       "      <td>30.0</td>\n",
       "      <td>2004</td>\n",
       "      <td>225</td>\n",
       "      <td>150000</td>\n",
       "      <td>0</td>\n",
       "      <td>0</td>\n",
       "      <td>0</td>\n",
       "      <td>1</td>\n",
       "      <td>0</td>\n",
       "      <td>0</td>\n",
       "      <td>0</td>\n",
       "      <td>1</td>\n",
       "      <td>0</td>\n",
       "      <td>0</td>\n",
       "      <td>0</td>\n",
       "      <td>0</td>\n",
       "      <td>0</td>\n",
       "      <td>1</td>\n",
       "      <td>1</td>\n",
       "    </tr>\n",
       "    <tr>\n",
       "      <td>311498</td>\n",
       "      <td>106.0</td>\n",
       "      <td>32.0</td>\n",
       "      <td>2000</td>\n",
       "      <td>101</td>\n",
       "      <td>125000</td>\n",
       "      <td>1</td>\n",
       "      <td>0</td>\n",
       "      <td>0</td>\n",
       "      <td>0</td>\n",
       "      <td>0</td>\n",
       "      <td>0</td>\n",
       "      <td>0</td>\n",
       "      <td>0</td>\n",
       "      <td>0</td>\n",
       "      <td>0</td>\n",
       "      <td>0</td>\n",
       "      <td>0</td>\n",
       "      <td>0</td>\n",
       "      <td>1</td>\n",
       "      <td>0</td>\n",
       "    </tr>\n",
       "    <tr>\n",
       "      <td>311499</td>\n",
       "      <td>223.0</td>\n",
       "      <td>37.0</td>\n",
       "      <td>1996</td>\n",
       "      <td>102</td>\n",
       "      <td>150000</td>\n",
       "      <td>0</td>\n",
       "      <td>0</td>\n",
       "      <td>0</td>\n",
       "      <td>0</td>\n",
       "      <td>0</td>\n",
       "      <td>0</td>\n",
       "      <td>0</td>\n",
       "      <td>1</td>\n",
       "      <td>0</td>\n",
       "      <td>1</td>\n",
       "      <td>0</td>\n",
       "      <td>0</td>\n",
       "      <td>0</td>\n",
       "      <td>0</td>\n",
       "      <td>0</td>\n",
       "    </tr>\n",
       "    <tr>\n",
       "      <td>311500</td>\n",
       "      <td>116.0</td>\n",
       "      <td>37.0</td>\n",
       "      <td>2002</td>\n",
       "      <td>100</td>\n",
       "      <td>150000</td>\n",
       "      <td>0</td>\n",
       "      <td>0</td>\n",
       "      <td>0</td>\n",
       "      <td>0</td>\n",
       "      <td>0</td>\n",
       "      <td>0</td>\n",
       "      <td>1</td>\n",
       "      <td>1</td>\n",
       "      <td>0</td>\n",
       "      <td>1</td>\n",
       "      <td>0</td>\n",
       "      <td>0</td>\n",
       "      <td>0</td>\n",
       "      <td>0</td>\n",
       "      <td>0</td>\n",
       "    </tr>\n",
       "  </tbody>\n",
       "</table>\n",
       "<p>311501 rows × 20 columns</p>\n",
       "</div>"
      ],
      "text/plain": [
       "        Model  Brand  RegistrationYear  Power  Kilometer  \\\n",
       "0        29.0    1.0              2011    190     125000   \n",
       "1       117.0   14.0              2004    163     125000   \n",
       "2       116.0   37.0              2001     75     150000   \n",
       "3       101.0   31.0              2008     69      90000   \n",
       "4        11.0    2.0              1995    102     150000   \n",
       "...       ...    ...               ...    ...        ...   \n",
       "311496    4.0    0.0              2016    150     150000   \n",
       "311497  140.0   30.0              2004    225     150000   \n",
       "311498  106.0   32.0              2000    101     125000   \n",
       "311499  223.0   37.0              1996    102     150000   \n",
       "311500  116.0   37.0              2002    100     150000   \n",
       "\n",
       "        VehicleType_convertible  VehicleType_coupe  VehicleType_other  \\\n",
       "0                             0                  1                  0   \n",
       "1                             0                  0                  0   \n",
       "2                             0                  0                  0   \n",
       "3                             0                  0                  0   \n",
       "4                             0                  0                  0   \n",
       "...                         ...                ...                ...   \n",
       "311496                        0                  0                  0   \n",
       "311497                        0                  0                  0   \n",
       "311498                        1                  0                  0   \n",
       "311499                        0                  0                  0   \n",
       "311500                        0                  0                  0   \n",
       "\n",
       "        VehicleType_sedan  VehicleType_small  VehicleType_suv  \\\n",
       "0                       0                  0                0   \n",
       "1                       0                  0                1   \n",
       "2                       0                  1                0   \n",
       "3                       0                  1                0   \n",
       "4                       1                  0                0   \n",
       "...                   ...                ...              ...   \n",
       "311496                  0                  0                0   \n",
       "311497                  1                  0                0   \n",
       "311498                  0                  0                0   \n",
       "311499                  0                  0                0   \n",
       "311500                  0                  0                0   \n",
       "\n",
       "        VehicleType_wagon  Gearbox_manual  FuelType_electric  \\\n",
       "0                       0               1                  0   \n",
       "1                       0               0                  0   \n",
       "2                       0               1                  0   \n",
       "3                       0               1                  0   \n",
       "4                       0               1                  0   \n",
       "...                   ...             ...                ...   \n",
       "311496                  1               0                  0   \n",
       "311497                  0               1                  0   \n",
       "311498                  0               0                  0   \n",
       "311499                  0               1                  0   \n",
       "311500                  1               1                  0   \n",
       "\n",
       "        FuelType_gasoline  FuelType_hybrid  FuelType_lpg  FuelType_other  \\\n",
       "0                       1                0             0               0   \n",
       "1                       1                0             0               0   \n",
       "2                       0                0             0               0   \n",
       "3                       1                0             0               0   \n",
       "4                       0                0             0               0   \n",
       "...                   ...              ...           ...             ...   \n",
       "311496                  1                0             0               0   \n",
       "311497                  0                0             0               0   \n",
       "311498                  0                0             0               0   \n",
       "311499                  1                0             0               0   \n",
       "311500                  1                0             0               0   \n",
       "\n",
       "        FuelType_petrol  NotRepaired_yes  \n",
       "0                     0                1  \n",
       "1                     0                0  \n",
       "2                     1                0  \n",
       "3                     0                0  \n",
       "4                     1                1  \n",
       "...                 ...              ...  \n",
       "311496                0                0  \n",
       "311497                1                1  \n",
       "311498                1                0  \n",
       "311499                0                0  \n",
       "311500                0                0  \n",
       "\n",
       "[311501 rows x 20 columns]"
      ]
     },
     "execution_count": 13,
     "metadata": {},
     "output_type": "execute_result"
    }
   ],
   "source": [
    "data = data.reset_index()\n",
    "X, y = data.drop(columns='Price'), data['Price']\n",
    "\n",
    "encoder = OrdinalEncoder()\n",
    "Xoe = pd.DataFrame(encoder.fit_transform(X[['Model', 'Brand']]), columns=['Model', 'Brand'])\n",
    "\n",
    "Xohe = pd.get_dummies(X[['VehicleType', 'RegistrationYear', 'Gearbox', 'Power', 'Kilometer', 'FuelType', 'NotRepaired']], drop_first=True)\n",
    "\n",
    "X = Xoe.merge(Xohe, left_index=True, right_index=True)\n",
    "X"
   ]
  },
  {
   "cell_type": "markdown",
   "metadata": {},
   "source": [
    "Разделим данные на обучающую и тестовую выборки в соотношении 3:1."
   ]
  },
  {
   "cell_type": "code",
   "execution_count": 14,
   "metadata": {},
   "outputs": [
    {
     "name": "stdout",
     "output_type": "stream",
     "text": [
      "Размер обучающей выборки датасета: 233625\n",
      "Размер тестовой выборки датасета: 77876\n"
     ]
    }
   ],
   "source": [
    "X_train, X_test, y_train, y_test = train_test_split(X, y, test_size=0.25, random_state=1)\n",
    "\n",
    "def check_size(name, sample):\n",
    "    print(f'Размер {name} выборки датасета: {len(sample)}')\n",
    "check_size('обучающей', y_train)\n",
    "check_size('тестовой', y_test)"
   ]
  },
  {
   "cell_type": "markdown",
   "metadata": {},
   "source": [
    "В данных присутствуют количественные признаки с разными разбросами значений, так что стандартизируем эти данные в обучающей и тестовой выборках, предварительно настроив стандартизатор на обучающей."
   ]
  },
  {
   "cell_type": "code",
   "execution_count": 15,
   "metadata": {
    "scrolled": true
   },
   "outputs": [],
   "source": [
    "numeric = ['RegistrationYear', 'Power', 'Kilometer']\n",
    "scaler = StandardScaler()\n",
    "scaler.fit(X_train.loc[:,numeric])\n",
    "\n",
    "pd.options.mode.chained_assignment = None \n",
    "\n",
    "X_train.loc[:,numeric] = scaler.transform(X_train.loc[:,numeric])\n",
    "X_test.loc[:,numeric] = scaler.transform(X_test.loc[:,numeric])"
   ]
  },
  {
   "cell_type": "markdown",
   "metadata": {},
   "source": [
    "### Обучение линейной регрессии.\n",
    "\n",
    "Построим модель линейной регрессии, проверим её на кросс-валидации и высяним скорость ее обучения."
   ]
  },
  {
   "cell_type": "code",
   "execution_count": 16,
   "metadata": {},
   "outputs": [
    {
     "name": "stdout",
     "output_type": "stream",
     "text": [
      "Значение RMSE линейной регрессии при проверке на кросс-валидации: 2975.1866104003134\n",
      "Wall time: 568 ms\n"
     ]
    }
   ],
   "source": [
    "%%time\n",
    "\n",
    "model_lin_reg = LinearRegression()\n",
    "model_lin_reg.fit(X_train, y_train)\n",
    "\n",
    "MSE_lin_reg = np.mean(cross_validate(model_lin_reg, X_train, y_train, cv=5, scoring='neg_mean_squared_error')['test_score'])\n",
    "\n",
    "print(f'Значение RMSE линейной регрессии при проверке на кросс-валидации: {np.abs(MSE_lin_reg)**0.5}')"
   ]
  },
  {
   "cell_type": "markdown",
   "metadata": {},
   "source": [
    "Проверим скорость предсказания линейной регрессии."
   ]
  },
  {
   "cell_type": "code",
   "execution_count": 17,
   "metadata": {},
   "outputs": [
    {
     "name": "stdout",
     "output_type": "stream",
     "text": [
      "Wall time: 8.01 ms\n"
     ]
    },
    {
     "data": {
      "text/plain": [
       "array([4460.46553216, 4713.10917276,  360.95054938, ..., 9749.08436311,\n",
       "       4496.63115686, 1192.72336512])"
      ]
     },
     "execution_count": 17,
     "metadata": {},
     "output_type": "execute_result"
    }
   ],
   "source": [
    "%%time\n",
    "\n",
    "model_lin_reg.predict(X_test)"
   ]
  },
  {
   "cell_type": "markdown",
   "metadata": {},
   "source": [
    "### Обучение случайного леса.\n",
    "\n",
    "Построим модель случайного леса с подбором параметров через RandomizedSearch и выясним скорость его обучения."
   ]
  },
  {
   "cell_type": "code",
   "execution_count": 18,
   "metadata": {},
   "outputs": [
    {
     "name": "stdout",
     "output_type": "stream",
     "text": [
      "Лучшее RMSE случайного леса: 2036.0290248647348\n",
      "Параметры модели случайного леса: {'n_estimators': 41, 'max_depth': 9}\n",
      "Wall time: 5min 41s\n"
     ]
    }
   ],
   "source": [
    "%%time\n",
    "\n",
    "RS_params = {'max_depth': range(1, 10),\n",
    "             'n_estimators': range(1, 51, 10)}\n",
    "\n",
    "RS_random_forest = RandomizedSearchCV(RandomForestRegressor(random_state=1),\n",
    "                                      param_distributions=RS_params,\n",
    "                                      scoring='neg_mean_squared_error', cv=5,\n",
    "                                      n_iter=20, random_state=1)\n",
    "RS_random_forest.fit(X_train, y_train)\n",
    "\n",
    "MSE_random_forest = RS_random_forest.best_score_\n",
    "\n",
    "print(f'Лучшее RMSE случайного леса: {np.abs(MSE_random_forest)**0.5}')\n",
    "print(f'Параметры модели случайного леса: {RS_random_forest.best_params_}')"
   ]
  },
  {
   "cell_type": "markdown",
   "metadata": {},
   "source": [
    "Проверим скорость предсказания случайного леса."
   ]
  },
  {
   "cell_type": "code",
   "execution_count": 19,
   "metadata": {},
   "outputs": [
    {
     "name": "stdout",
     "output_type": "stream",
     "text": [
      "Wall time: 191 ms\n"
     ]
    },
    {
     "data": {
      "text/plain": [
       "array([ 2575.57017403,  2310.3395517 ,  1002.58809939, ...,\n",
       "       10972.74917302,  1653.95833719,  1544.47089106])"
      ]
     },
     "execution_count": 19,
     "metadata": {},
     "output_type": "execute_result"
    }
   ],
   "source": [
    "%%time\n",
    "\n",
    "RS_random_forest.predict(X_test)"
   ]
  },
  {
   "cell_type": "markdown",
   "metadata": {},
   "source": [
    "### Проверка на адекватность.\n",
    "\n",
    "Сравним метрики полученных моделей с метрикой модели, предсказывающей только среднее значение целевого признака."
   ]
  },
  {
   "cell_type": "code",
   "execution_count": 20,
   "metadata": {},
   "outputs": [
    {
     "name": "stdout",
     "output_type": "stream",
     "text": [
      "RMSE для константной модели со средними значениями: 4573.358848031977\n"
     ]
    }
   ],
   "source": [
    "dummy_regr = DummyRegressor(strategy=\"mean\")\n",
    "dummy_regr.fit(X_train, y_train)\n",
    "prediction_dummy_mean = dummy_regr.predict(X_test)\n",
    "\n",
    "print(f'RMSE для константной модели со средними значениями: {mean_squared_error(y_test, prediction_dummy_mean)**0.5}')"
   ]
  },
  {
   "cell_type": "markdown",
   "metadata": {},
   "source": [
    "Значение RMSE у dummy-модели получилось сильно больше, так что можно говорить об адекватности наших линейной регрессии и случайного леса."
   ]
  },
  {
   "cell_type": "markdown",
   "metadata": {},
   "source": [
    "### Обучение градиентного бустинга.\n",
    "\n",
    "Построим модель градиентного бустинга из библиотеки LightGBM с изменением нескольких параметров, определим скорость обучения и скорость предсказания."
   ]
  },
  {
   "cell_type": "code",
   "execution_count": 21,
   "metadata": {},
   "outputs": [
    {
     "name": "stdout",
     "output_type": "stream",
     "text": [
      "Wall time: 11.8 s\n"
     ]
    }
   ],
   "source": [
    "%%time\n",
    "\n",
    "train_features, valid_features, train_target, valid_target = train_test_split(X_train, y_train, test_size=0.25, random_state=1)\n",
    "train_data_lgb = lgb.Dataset(train_features, train_target)\n",
    "valid_data_lgb = lgb.Dataset(valid_features, valid_target, reference=train_data_lgb)\n",
    "\n",
    "parameters1 = {\n",
    "    'objective': 'regression',\n",
    "    'metric': 'rmse',\n",
    "    'boosting': 'gbdt',\n",
    "    'num_leaves': 31,\n",
    "    'feature_fraction': 0.5,\n",
    "    'learning_rate': 0.05,\n",
    "    'verbose': -1\n",
    "}\n",
    "\n",
    "model_lgb1 = lgb.train(parameters1, train_data_lgb, 5000, valid_sets=valid_data_lgb, verbose_eval=False)"
   ]
  },
  {
   "cell_type": "code",
   "execution_count": 22,
   "metadata": {},
   "outputs": [
    {
     "name": "stdout",
     "output_type": "stream",
     "text": [
      "Значение RMSE градиентного бустинга из библиотеки LightGBM с первым набором параметров: 1658.0040978784587\n",
      "Wall time: 1.54 s\n"
     ]
    }
   ],
   "source": [
    "%%time\n",
    "\n",
    "model_lgb_prediction1 = model_lgb1.predict(valid_features)\n",
    "\n",
    "print(f'Значение RMSE градиентного бустинга из библиотеки LightGBM с первым набором параметров: {mean_squared_error(valid_target, model_lgb_prediction1)**0.5}')"
   ]
  },
  {
   "cell_type": "markdown",
   "metadata": {},
   "source": [
    "Изменим параметры бустинга и проверим, как это отразится на результате."
   ]
  },
  {
   "cell_type": "code",
   "execution_count": 23,
   "metadata": {},
   "outputs": [
    {
     "name": "stdout",
     "output_type": "stream",
     "text": [
      "Wall time: 12.6 s\n"
     ]
    }
   ],
   "source": [
    "%%time\n",
    "\n",
    "parameters2 = {\n",
    "    'objective': 'regression',\n",
    "    'metric': 'rmse',\n",
    "    'boosting': 'gbdt',\n",
    "    'num_leaves': 61,\n",
    "    'feature_fraction': 1,\n",
    "    'learning_rate': 0.1,\n",
    "    'verbose': -1\n",
    "}\n",
    "\n",
    "model_lgb2 = lgb.train(parameters2, train_data_lgb, 5000, valid_sets=valid_data_lgb, verbose_eval=False)"
   ]
  },
  {
   "cell_type": "code",
   "execution_count": 24,
   "metadata": {},
   "outputs": [
    {
     "name": "stdout",
     "output_type": "stream",
     "text": [
      "Значение RMSE градиентного бустинга из библиотеки LightGBM со вторым набором параметров: 1671.831217534069\n",
      "Wall time: 2.65 s\n"
     ]
    }
   ],
   "source": [
    "%%time\n",
    "\n",
    "model_lgb_prediction2 = model_lgb2.predict(valid_features)\n",
    "\n",
    "print(f'Значение RMSE градиентного бустинга из библиотеки LightGBM со вторым набором параметров: {mean_squared_error(valid_target, model_lgb_prediction2)**0.5}')"
   ]
  },
  {
   "cell_type": "markdown",
   "metadata": {},
   "source": [
    "# Анализ моделей\n",
    "<a id=\"analisys\"></a>"
   ]
  },
  {
   "cell_type": "markdown",
   "metadata": {},
   "source": [
    "Наилучший результат показала модель градиентного бустинга с первым набором параметров. Проверим ее RMSE на тестовой выборке."
   ]
  },
  {
   "cell_type": "code",
   "execution_count": 25,
   "metadata": {},
   "outputs": [
    {
     "name": "stdout",
     "output_type": "stream",
     "text": [
      "Значение RMSE градиентного бустинга из библиотеки LightGBM с первым набором параметров: 1483.337710167307\n"
     ]
    }
   ],
   "source": [
    "model_lgb_prediction1_test = model_lgb1.predict(X_test)\n",
    "\n",
    "print(f'Значение RMSE градиентного бустинга из библиотеки LightGBM с первым набором параметров: {mean_squared_error(y_train, model_lgb_prediction1_test)**0.5}')"
   ]
  },
  {
   "cell_type": "markdown",
   "metadata": {},
   "source": [
    "### Выводы.\n",
    "\n",
    "Из моделей случайного леса и линейной регрессии наилучший результат показал случайный лес (2975 у регрессии против 2036 у случайного леса), но при этом он затрачивает на обучение ~6 минут (при подборе параметров через RandomSearch), тогда как линейная регрессия отрабатывает почти мгновенно. Однако обе эти простые модели проигрывают модели градиентного бустинга на основе решающего дерева, который показывает результат RMSE на валидационной выборке в 1658, и еще более хороший результат на тестовой выборке, при времени обучения в несколько десятков секунд в зависимости от параметров и числа итераций. Что касается скорости предсказаний, то здесь быстрее (меньше секунды) отрабатывают линейная регрессия и случайный лес, а градиентный бустинг предсказывает несколько секунд в зависимости от параметров."
   ]
  }
 ],
 "metadata": {
  "kernelspec": {
   "display_name": "Python 3",
   "language": "python",
   "name": "python3"
  },
  "language_info": {
   "codemirror_mode": {
    "name": "ipython",
    "version": 3
   },
   "file_extension": ".py",
   "mimetype": "text/x-python",
   "name": "python",
   "nbconvert_exporter": "python",
   "pygments_lexer": "ipython3",
   "version": "3.7.8"
  },
  "toc": {
   "base_numbering": 1,
   "nav_menu": {},
   "number_sections": true,
   "sideBar": true,
   "skip_h1_title": true,
   "title_cell": "Table of Contents",
   "title_sidebar": "Contents",
   "toc_cell": false,
   "toc_position": {},
   "toc_section_display": true,
   "toc_window_display": false
  }
 },
 "nbformat": 4,
 "nbformat_minor": 4
}
